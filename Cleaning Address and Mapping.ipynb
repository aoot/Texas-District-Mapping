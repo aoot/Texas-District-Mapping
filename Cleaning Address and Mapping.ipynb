{
 "cells": [
  {
   "cell_type": "markdown",
   "metadata": {},
   "source": [
    "# Texas House and Texas Senate District Mappings"
   ]
  },
  {
   "cell_type": "markdown",
   "metadata": {},
   "source": [
    "## Importing the Files"
   ]
  },
  {
   "cell_type": "code",
   "execution_count": 64,
   "metadata": {},
   "outputs": [],
   "source": [
    "import pandas as pd\n",
    "import warnings\n",
    "import re\n",
    "\n",
    "## Ignore warnings\n",
    "warnings.filterwarnings(\"ignore\")  # Comment out if WANT warnings\n",
    "\n",
    "## File names - PLEASE INPUT\n",
    "fileName = \"SFDataImport_AmeriCorpsTX_ServiceSites_2021-22.xlsx\"\n",
    "\n",
    "## Variables\n",
    "if re.search(\"\\.xlsx$\", fileName):\n",
    "    filePath_excel = f\"./data/{fileName}\"\n",
    "elif re.search(\"\\.csv$\", fileName):\n",
    "    filePath_csv = f\"./data/{fileName}\"\n",
    "else:\n",
    "    print(f\"File format not supported (xlsx or csv needed).\")\n",
    "\n",
    "## Import excel file\n",
    "df = pd.read_excel(filePath_excel, engine=\"openpyxl\")\n",
    "# display(df.head())  # Show head of dataframe\n",
    "\n",
    "## Import csv file - Uncomment if need to import CSV\n",
    "# df = pd.read_csv(filePath_csv)\n",
    "# display(df.head())  # Show head of the dataframe\n",
    "\n",
    "\n",
    "## Subset the columns\n",
    "mask_address_cols = [\"Billing Address\", \"Billing City\", \"Billing State/Province\", \"Billing Zip/Postal Code\"]\n",
    "# display(df[mask_address_cols].head())  # Show head of dataframe subset\n",
    "\n",
    "\n",
    "## Check missing values and filter out missing rows\n",
    "mask_no_missing_val = df[mask_address_cols].isna().sum(axis=1).apply(lambda x: True if x==0 else False)\n",
    "df_no_missing_val = df.loc[mask_no_missing_val, mask_address_cols]  # dataframe subset without missing addresses\n"
   ]
  },
  {
   "cell_type": "code",
   "execution_count": 65,
   "metadata": {},
   "outputs": [
    {
     "data": {
      "text/html": [
       "<div>\n",
       "<style scoped>\n",
       "    .dataframe tbody tr th:only-of-type {\n",
       "        vertical-align: middle;\n",
       "    }\n",
       "\n",
       "    .dataframe tbody tr th {\n",
       "        vertical-align: top;\n",
       "    }\n",
       "\n",
       "    .dataframe thead th {\n",
       "        text-align: right;\n",
       "    }\n",
       "</style>\n",
       "<table border=\"1\" class=\"dataframe\">\n",
       "  <thead>\n",
       "    <tr style=\"text-align: right;\">\n",
       "      <th></th>\n",
       "      <th>Billing Address</th>\n",
       "      <th>Billing City</th>\n",
       "      <th>Billing State/Province</th>\n",
       "      <th>Billing Zip/Postal Code</th>\n",
       "      <th>full_address</th>\n",
       "    </tr>\n",
       "  </thead>\n",
       "  <tbody>\n",
       "    <tr>\n",
       "      <th>0</th>\n",
       "      <td>2407 S. Houston</td>\n",
       "      <td>Amarillo</td>\n",
       "      <td>TX</td>\n",
       "      <td>79103</td>\n",
       "      <td>2407 S. Houston, Amarillo, TX 79103</td>\n",
       "    </tr>\n",
       "    <tr>\n",
       "      <th>1</th>\n",
       "      <td>3901 SE 15th</td>\n",
       "      <td>Amarillo</td>\n",
       "      <td>TX</td>\n",
       "      <td>79104</td>\n",
       "      <td>3901 SE 15th, Amarillo, TX 79104</td>\n",
       "    </tr>\n",
       "    <tr>\n",
       "      <th>2</th>\n",
       "      <td>3800 S. Lipscomb</td>\n",
       "      <td>Amarillo</td>\n",
       "      <td>TX</td>\n",
       "      <td>79110</td>\n",
       "      <td>3800 S. Lipscomb, Amarillo, TX 79110</td>\n",
       "    </tr>\n",
       "    <tr>\n",
       "      <th>3</th>\n",
       "      <td>3209 S. Taylor</td>\n",
       "      <td>Amarillo</td>\n",
       "      <td>TX</td>\n",
       "      <td>79110</td>\n",
       "      <td>3209 S. Taylor, Amarillo, TX 79110</td>\n",
       "    </tr>\n",
       "    <tr>\n",
       "      <th>4</th>\n",
       "      <td>2215 S. Bivins</td>\n",
       "      <td>Amarillo</td>\n",
       "      <td>TX</td>\n",
       "      <td>79103</td>\n",
       "      <td>2215 S. Bivins, Amarillo, TX 79103</td>\n",
       "    </tr>\n",
       "    <tr>\n",
       "      <th>...</th>\n",
       "      <td>...</td>\n",
       "      <td>...</td>\n",
       "      <td>...</td>\n",
       "      <td>...</td>\n",
       "      <td>...</td>\n",
       "    </tr>\n",
       "    <tr>\n",
       "      <th>677</th>\n",
       "      <td>900 Ave Q</td>\n",
       "      <td>Sunray</td>\n",
       "      <td>TX</td>\n",
       "      <td>79086</td>\n",
       "      <td>900 Ave Q, Sunray, TX 79086</td>\n",
       "    </tr>\n",
       "    <tr>\n",
       "      <th>678</th>\n",
       "      <td>1701 23rd St</td>\n",
       "      <td>Canyon</td>\n",
       "      <td>TX</td>\n",
       "      <td>79015</td>\n",
       "      <td>1701 23rd St, Canyon, TX 79015</td>\n",
       "    </tr>\n",
       "    <tr>\n",
       "      <th>679</th>\n",
       "      <td>5800 Attebury Dr</td>\n",
       "      <td>Canyon</td>\n",
       "      <td>TX</td>\n",
       "      <td>79118</td>\n",
       "      <td>5800 Attebury Dr, Canyon, TX 79118</td>\n",
       "    </tr>\n",
       "    <tr>\n",
       "      <th>680</th>\n",
       "      <td>1401 23rd St</td>\n",
       "      <td>Canyon</td>\n",
       "      <td>TX</td>\n",
       "      <td>79015</td>\n",
       "      <td>1401 23rd St, Canyon, TX 79015</td>\n",
       "    </tr>\n",
       "    <tr>\n",
       "      <th>681</th>\n",
       "      <td>501 Hornet Pl</td>\n",
       "      <td>Tulia</td>\n",
       "      <td>TX</td>\n",
       "      <td>79088</td>\n",
       "      <td>501 Hornet Pl, Tulia, TX 79088</td>\n",
       "    </tr>\n",
       "  </tbody>\n",
       "</table>\n",
       "<p>682 rows × 5 columns</p>\n",
       "</div>"
      ],
      "text/plain": [
       "      Billing Address Billing City Billing State/Province  \\\n",
       "0     2407 S. Houston     Amarillo                     TX   \n",
       "1        3901 SE 15th     Amarillo                     TX   \n",
       "2    3800 S. Lipscomb     Amarillo                     TX   \n",
       "3      3209 S. Taylor     Amarillo                     TX   \n",
       "4      2215 S. Bivins     Amarillo                     TX   \n",
       "..                ...          ...                    ...   \n",
       "677         900 Ave Q       Sunray                     TX   \n",
       "678      1701 23rd St       Canyon                     TX   \n",
       "679  5800 Attebury Dr       Canyon                     TX   \n",
       "680      1401 23rd St       Canyon                     TX   \n",
       "681     501 Hornet Pl        Tulia                     TX   \n",
       "\n",
       "    Billing Zip/Postal Code                          full_address  \n",
       "0                     79103   2407 S. Houston, Amarillo, TX 79103  \n",
       "1                     79104      3901 SE 15th, Amarillo, TX 79104  \n",
       "2                     79110  3800 S. Lipscomb, Amarillo, TX 79110  \n",
       "3                     79110    3209 S. Taylor, Amarillo, TX 79110  \n",
       "4                     79103    2215 S. Bivins, Amarillo, TX 79103  \n",
       "..                      ...                                   ...  \n",
       "677                   79086           900 Ave Q, Sunray, TX 79086  \n",
       "678                   79015        1701 23rd St, Canyon, TX 79015  \n",
       "679                   79118    5800 Attebury Dr, Canyon, TX 79118  \n",
       "680                   79015        1401 23rd St, Canyon, TX 79015  \n",
       "681                   79088        501 Hornet Pl, Tulia, TX 79088  \n",
       "\n",
       "[682 rows x 5 columns]"
      ]
     },
     "metadata": {},
     "output_type": "display_data"
    }
   ],
   "source": [
    "## Create 'Full Address' column in DataFrame\n",
    "## NOTES: \n",
    "## - Rows with missing values are skipped\n",
    "\n",
    "## Helper function\n",
    "def joinAddress(row):\n",
    "    '''Joins compound address fields into single string.\n",
    "    \n",
    "    The function also strings leading and trailing spaced that causes issues with .tab\n",
    "    '''\n",
    "    if (isinstance(row[mask_address_cols[0]], float) | \n",
    "        isinstance(row[mask_address_cols[1]], float) | \n",
    "        isinstance(row[mask_address_cols[2]], float) | \n",
    "        isinstance(row[mask_address_cols[3]], float)):\n",
    "        print(f\"This is invalid: \")\n",
    "        print(row)\n",
    "    return(str(row[mask_address_cols[0]]).strip() + \", \" + \n",
    "           row[mask_address_cols[1]].strip() + \", \" + \n",
    "           row[mask_address_cols[2]].strip() + \" \" + \n",
    "           str(row[mask_address_cols[3]]).strip())\n",
    "    \n",
    "## Create a new column `full_address`\n",
    "df.loc[mask_no_missing_val, \"full_address\"] = df.loc[mask_no_missing_val, mask_address_cols].apply(joinAddress, axis=1)\n",
    "display(df[(mask_address_cols + [\"full_address\"])])  # Display the new dataframe subset"
   ]
  },
  {
   "cell_type": "code",
   "execution_count": 66,
   "metadata": {},
   "outputs": [
    {
     "data": {
      "text/html": [
       "<div>\n",
       "<style scoped>\n",
       "    .dataframe tbody tr th:only-of-type {\n",
       "        vertical-align: middle;\n",
       "    }\n",
       "\n",
       "    .dataframe tbody tr th {\n",
       "        vertical-align: top;\n",
       "    }\n",
       "\n",
       "    .dataframe thead th {\n",
       "        text-align: right;\n",
       "    }\n",
       "</style>\n",
       "<table border=\"1\" class=\"dataframe\">\n",
       "  <thead>\n",
       "    <tr style=\"text-align: right;\">\n",
       "      <th></th>\n",
       "      <th>Billing Address</th>\n",
       "      <th>Billing City</th>\n",
       "      <th>Billing State/Province</th>\n",
       "      <th>Billing Zip/Postal Code</th>\n",
       "    </tr>\n",
       "  </thead>\n",
       "  <tbody>\n",
       "    <tr>\n",
       "      <th>222</th>\n",
       "      <td>Po Box 191405</td>\n",
       "      <td>Dallas</td>\n",
       "      <td>TX</td>\n",
       "      <td>75219-1405</td>\n",
       "    </tr>\n",
       "    <tr>\n",
       "      <th>593</th>\n",
       "      <td>1600B Smith Rd</td>\n",
       "      <td>Austin</td>\n",
       "      <td>TX</td>\n",
       "      <td>78721-3541</td>\n",
       "    </tr>\n",
       "  </tbody>\n",
       "</table>\n",
       "</div>"
      ],
      "text/plain": [
       "    Billing Address Billing City Billing State/Province  \\\n",
       "222   Po Box 191405       Dallas                     TX   \n",
       "593  1600B Smith Rd       Austin                     TX   \n",
       "\n",
       "    Billing Zip/Postal Code  \n",
       "222              75219-1405  \n",
       "593              78721-3541  "
      ]
     },
     "metadata": {},
     "output_type": "display_data"
    }
   ],
   "source": [
    "## Checking addresses\n",
    "## NOTES:\n",
    "## - Troulbing address are PO box\n",
    "## - 1600B is a valid address, there is not a space between door number and `B`\n",
    "\n",
    "df[\"full_address\"].str.match(r\"^(\\d+ \\w+)\").value_counts()  # There are 4 bad address\n",
    "\n",
    "mask_good_address = df[\"full_address\"].str.match(r\"^(\\d+ \\w+)\").astype(bool)\n",
    "\n",
    "temp = df.loc[~mask_good_address, mask_address_cols]\n",
    "display(temp)\n"
   ]
  },
  {
   "cell_type": "code",
   "execution_count": 74,
   "metadata": {},
   "outputs": [],
   "source": [
    "## Helper functions for Google API\n",
    "\n",
    "## Google Maps API\n",
    "import os\n",
    "apiKey_googleMaps = os.environ['apiKey_googleMaps']\n",
    "\n",
    "## Import Google Geocoder\n",
    "from geopy.geocoders import GoogleV3\n",
    "geolocator = GoogleV3(api_key=apiKey_googleMaps)\n",
    "\n",
    "\n",
    "## Helper function: Extract latitude and longitude\n",
    "def extract_lat_long(address):\n",
    "    try:\n",
    "        location = geolocator.geocode(address)\n",
    "        return (location.latitude, location.longitude)\n",
    "    except:\n",
    "        return \"\"\n",
    "\n",
    "## Helper function: Extract standardized and formatted address\n",
    "def extract_clean_address(address):\n",
    "    try:\n",
    "        location = geolocator.geocode(address)\n",
    "        return location.address\n",
    "    except:\n",
    "        return \"\"\n",
    "    \n",
    "## Helper function: Extract raw\n",
    "def extract_raw(address):\n",
    "    try:\n",
    "        location = geolocator.geocode(address)\n",
    "        return location.raw\n",
    "    except:\n",
    "        return \"\""
   ]
  },
  {
   "cell_type": "code",
   "execution_count": 69,
   "metadata": {},
   "outputs": [],
   "source": [
    "## Added googleMaps_lat_long and googleMaps_clean_address columns\n",
    "df.loc[mask_no_missing_val, \"googleMaps_lat_long\"] = df.loc[mask_no_missing_val, \"full_address\"].apply(extract_lat_long)\n",
    "df.loc[mask_no_missing_val, \"googleMaps_clean_address\"] = df.loc[mask_no_missing_val, \"full_address\"].apply(extract_clean_address)\n",
    "\n",
    "## Testing\n",
    "# df.loc[mask_no_missing_val, \"googleMaps_lat_long\"] = df.loc[mask_no_missing_val, \"full_address\"].head().apply(extract_lat_long)\n",
    "# df.loc[mask_no_missing_val, \"googleMaps_clean_address\"] = df.loc[mask_no_missing_val, \"full_address\"].head().apply(extract_clean_address)\n",
    "\n"
   ]
  },
  {
   "cell_type": "code",
   "execution_count": 78,
   "metadata": {},
   "outputs": [
    {
     "name": "stdout",
     "output_type": "stream",
     "text": [
      "{'address_components': [{'long_name': '3209', 'short_name': '3209', 'types': ['street_number']}, {'long_name': 'South Taylor Street', 'short_name': 'S Taylor St', 'types': ['route']}, {'long_name': 'Amarillo', 'short_name': 'Amarillo', 'types': ['locality', 'political']}, {'long_name': 'Randall County', 'short_name': 'Randall County', 'types': ['administrative_area_level_2', 'political']}, {'long_name': 'Texas', 'short_name': 'TX', 'types': ['administrative_area_level_1', 'political']}, {'long_name': 'United States', 'short_name': 'US', 'types': ['country', 'political']}, {'long_name': '79110', 'short_name': '79110', 'types': ['postal_code']}, {'long_name': '1038', 'short_name': '1038', 'types': ['postal_code_suffix']}], 'formatted_address': '3209 S Taylor St, Amarillo, TX 79110, USA', 'geometry': {'bounds': {'northeast': {'lat': 35.1789477, 'lng': -101.8390879}, 'southwest': {'lat': 35.1788622, 'lng': -101.8392872}}, 'location': {'lat': 35.1788868, 'lng': -101.8391701}, 'location_type': 'ROOFTOP', 'viewport': {'northeast': {'lat': 35.1802539302915, 'lng': -101.8379640197085}, 'southwest': {'lat': 35.1775559697085, 'lng': -101.8406619802915}}}, 'place_id': 'ChIJqwRmlXRPAYcR47ZjZTDBC0A', 'types': ['premise']}\n",
      "{'address_components': [{'long_name': 'Hereford High School Physical Education Gyms', 'short_name': 'Hereford High School Physical Education Gyms', 'types': ['premise']}, {'long_name': '200', 'short_name': '200', 'types': ['street_number']}, {'long_name': 'Avenue F', 'short_name': 'Ave F', 'types': ['route']}, {'long_name': 'Hereford', 'short_name': 'Hereford', 'types': ['locality', 'political']}, {'long_name': 'Deaf Smith County', 'short_name': 'Deaf Smith County', 'types': ['administrative_area_level_2', 'political']}, {'long_name': 'Texas', 'short_name': 'TX', 'types': ['administrative_area_level_1', 'political']}, {'long_name': 'United States', 'short_name': 'US', 'types': ['country', 'political']}, {'long_name': '79045', 'short_name': '79045', 'types': ['postal_code']}], 'formatted_address': 'Hereford High School Physical Education Gyms, 200 Ave F, Hereford, TX 79045, USA', 'geometry': {'bounds': {'northeast': {'lat': 34.8278332, 'lng': -102.3954723}, 'southwest': {'lat': 34.8269718, 'lng': -102.3962366}}, 'location': {'lat': 34.8274799, 'lng': -102.3959735}, 'location_type': 'ROOFTOP', 'viewport': {'northeast': {'lat': 34.82875148029149, 'lng': -102.3945874697085}, 'southwest': {'lat': 34.82605351970849, 'lng': -102.3972854302915}}}, 'place_id': 'ChIJBUp17ybHA4cR9btSfoOB_gY', 'types': ['premise']}\n"
     ]
    }
   ],
   "source": [
    "## Testing\n",
    "## NOTES: \n",
    "## - Sometimes when Google API can't find the result, it returns just the city.\n",
    "## - Google Maps data are crowdsourced and can be incorrect, such as San Jacinto Elementary School below\n",
    "## - May want to look into USPS option\n",
    "\n",
    "## Test Raw - Google Maps API provides raw data access as well\n",
    "# print(extract_raw(df.loc[3, 'full_address']))\n",
    "# print(extract_raw(\"200 Ave F, Hereford, TX 79045\"))\n",
    "\n",
    "## Issues Test\n",
    "# print(extract_raw(\"3400 W. 4th, Amarillo, TX 79106\"))  # Google Maps returns the city Amarillo, Google Maps address does not match USPS\n"
   ]
  },
  {
   "cell_type": "code",
   "execution_count": 70,
   "metadata": {},
   "outputs": [],
   "source": [
    "## Exporting data\n",
    "## NOTES:\n",
    "## - full_address have commas, thus can cause issues when exporting as CSV\n",
    "## - Instead, use tab as delimiter (.tab files)\n",
    "\n",
    "## Date suffix - To help differentiate exported files\n",
    "from datetime import datetime as dt\n",
    "date_suffix = (dt.now().strftime(\"%Y%m%d_%H%M_%S_%f\"))  # Date/Time/Microsecond to differentiate files\n",
    "\n",
    "## Export file to excel\n",
    "df.to_excel(f\"data/{fileName}_cleanFile_{date_suffix}.xlsx\")  # Export to xlsx\n",
    "\n",
    "## Export .tab (tab delimited files) - Can be opened with Excel\n",
    "df.to_csv(f\"data/{fileName}_cleanFile_{date_suffix}.tab\", sep=\"\\t\")"
   ]
  },
  {
   "cell_type": "markdown",
   "metadata": {},
   "source": [
    "## Points in Polygon (Finding which district an address belongs to)"
   ]
  },
  {
   "cell_type": "code",
   "execution_count": 10,
   "metadata": {},
   "outputs": [],
   "source": [
    "### Summary >>> [Source](https://redistricting.capitol.texas.gov/history)\n",
    "##\n",
    "## Texas Congressional Districts\n",
    "## - Texas Senate Districts: \n",
    "##    - 2002-2010 - Plan01188S\n",
    "##    - 2012-2020 - PlanS172\n",
    "##    - 2022 (Primary and general elections) - SB 4 - PlanS2168\n",
    "##\n",
    "## - Texas House Districts: \n",
    "##    - 2002-2010 - Plan01369H\n",
    "##    - 2012 - PlanH309\n",
    "##    - 2014-2018 - PlanH358\n",
    "##    - 2020 - PlanH414\n",
    "##    - 2022 (Primary and general elections) - HB 1 - PlanH2316\n",
    "## - Texas Board of Education Districts: \n",
    "##    - 2022 (Primary and general elections) - SB 7 - PlanE2106\n",
    "##\n",
    "## Texas Congressional Districts (US House Districts in Texas)\n",
    "##    - 2002 - PLAN01151C\n",
    "##    - 2004-2006 - PLAN01374C\n",
    "##    - 2006-2010 - PLAN01440C\n",
    "##    - 2012-2020 - PLANC235\n",
    "##    - 2022 (Primary and general elections) - SB 6 - PlanC193"
   ]
  },
  {
   "cell_type": "code",
   "execution_count": 85,
   "metadata": {},
   "outputs": [],
   "source": [
    "import geopandas as gpd\n",
    "import pandas as pd\n",
    "import numpy as np\n",
    "import matplotlib.pyplot as plt\n",
    "from shapely.geometry import Point"
   ]
  },
  {
   "cell_type": "code",
   "execution_count": 182,
   "metadata": {},
   "outputs": [
    {
     "name": "stdout",
     "output_type": "stream",
     "text": [
      "(-101.8237399, 35.1875439)\n"
     ]
    }
   ],
   "source": [
    "## read file\n",
    "df = pd.read_excel(\"./data/SFDataImport_AmeriCorpsTX_ServiceSites_2021-22.xlsx_cleanFile_20220725_1506_44_883408.xlsx\", engine=\"openpyxl\")\n",
    "# display(df)\n",
    "\n",
    "## Change lat/long file type from str -> tuple\n",
    "df.loc[mask_no_missing_val, \"googleMaps_lat_long\"] = df.loc[mask_no_missing_val, \"googleMaps_lat_long\"].apply(lambda row: tuple([float(i) for i in row.strip(\"()\").split(\", \")[::-1]]))\n",
    "df.loc[mask_no_missing_val, \"coords\"] = df.loc[mask_no_missing_val, \"googleMaps_lat_long\"].apply(Point)"
   ]
  },
  {
   "cell_type": "code",
   "execution_count": 143,
   "metadata": {},
   "outputs": [
    {
     "name": "stdout",
     "output_type": "stream",
     "text": [
      "     District                                           geometry\n",
      "0           1  POLYGON ((1494406.980 1201348.426, 1494404.818...\n",
      "1           2  POLYGON ((1368626.668 1138307.981, 1368617.076...\n",
      "2           3  POLYGON ((1455820.856 884283.339, 1455817.544 ...\n",
      "3           4  POLYGON ((1366839.633 1106996.402, 1366810.030...\n",
      "4           5  POLYGON ((1470631.844 1131634.573, 1470630.166...\n",
      "..        ...                                                ...\n",
      "145       146  POLYGON ((1442742.810 837343.344, 1442774.750 ...\n",
      "146       147  POLYGON ((1459168.977 836342.385, 1459166.055 ...\n",
      "147       148  POLYGON ((1438324.259 856819.707, 1438316.111 ...\n",
      "148       149  POLYGON ((1425314.465 841876.921, 1425205.233 ...\n",
      "149       150  POLYGON ((1430608.983 882191.471, 1430607.985 ...\n",
      "\n",
      "[150 rows x 2 columns]\n",
      "PROJCS[\"NAD_1983_Lambert_Conformal_Conic\",GEOGCS[\"NAD83\",DATUM[\"North_American_Datum_1983\",SPHEROID[\"GRS 1980\",6378137,298.257222101,AUTHORITY[\"EPSG\",\"7019\"]],AUTHORITY[\"EPSG\",\"6269\"]],PRIMEM[\"Greenwich\",0],UNIT[\"Degree\",0.0174532925199433]],PROJECTION[\"Lambert_Conformal_Conic_2SP\"],PARAMETER[\"latitude_of_origin\",31.1666666666667],PARAMETER[\"central_meridian\",-100],PARAMETER[\"standard_parallel_1\",27.4166666666667],PARAMETER[\"standard_parallel_2\",34.9166666666667],PARAMETER[\"false_easting\",1000000],PARAMETER[\"false_northing\",1000000],UNIT[\"metre\",1,AUTHORITY[\"EPSG\",\"9001\"]],AXIS[\"Easting\",EAST],AXIS[\"Northing\",NORTH]]\n",
      "     District                                           geometry\n",
      "0           1  POLYGON ((-94.70577 32.87916, -94.70579 32.879...\n",
      "1           2  POLYGON ((-96.07526 32.35748, -96.07537 32.357...\n",
      "2           3  POLYGON ((-95.26368 30.03251, -95.26371 30.032...\n",
      "3           4  POLYGON ((-96.10600 32.07531, -96.10632 32.075...\n",
      "4           5  POLYGON ((-94.99376 32.26004, -94.99376 32.260...\n",
      "..        ...                                                ...\n",
      "145       146  POLYGON ((-95.41960 29.61362, -95.41922 29.614...\n",
      "146       147  POLYGON ((-95.25031 29.59833, -95.25034 29.598...\n",
      "147       148  POLYGON ((-95.45699 29.79114, -95.45702 29.792...\n",
      "148       149  POLYGON ((-95.59784 29.66096, -95.59895 29.661...\n",
      "149       150  POLYGON ((-95.52624 30.02310, -95.52625 30.023...\n",
      "\n",
      "[150 rows x 2 columns]\n",
      "WGS84\n"
     ]
    }
   ],
   "source": [
    "## Texas House Districts\n",
    "txHouse = gpd.GeoDataFrame.from_file(\"/Users/anthonylee/Downloads/PLANH2316/PLANH2316.shp\")\n",
    "print(txHouse)\n",
    "print(txHouse.crs)\n",
    "\n",
    "## Convert CRS (Coordinate Ref Sys) to WGS84\n",
    "txHouse = txHouse.to_crs(\"WGS84\")\n",
    "print(txHouse)\n",
    "print(txHouse.crs)"
   ]
  },
  {
   "cell_type": "code",
   "execution_count": 184,
   "metadata": {},
   "outputs": [
    {
     "name": "stdout",
     "output_type": "stream",
     "text": [
      "0      POINT (-101.82374 35.18754)\n",
      "1      POINT (-101.79088 35.19671)\n",
      "2      POINT (-101.85456 35.17375)\n",
      "3      POINT (-101.83917 35.17889)\n",
      "4      POINT (-101.80683 35.18754)\n",
      "                  ...             \n",
      "677    POINT (-101.82022 36.01350)\n",
      "678    POINT (-101.91584 34.96579)\n",
      "679    POINT (-101.89897 35.11288)\n",
      "680    POINT (-101.91887 34.96941)\n",
      "681    POINT (-101.75766 34.54193)\n",
      "Name: coords, Length: 672, dtype: geometry\n"
     ]
    },
    {
     "data": {
      "image/png": "[encoded data removed]",
      "text/plain": [
       "<Figure size 432x288 with 1 Axes>"
      ]
     },
     "metadata": {
      "needs_background": "light"
     },
     "output_type": "display_data"
    },
    {
     "name": "stdout",
     "output_type": "stream",
     "text": [
      "     District                                           geometry\n",
      "0           1  POLYGON ((-94.70577 32.87916, -94.70579 32.879...\n",
      "1           2  POLYGON ((-96.07526 32.35748, -96.07537 32.357...\n",
      "2           3  POLYGON ((-95.26368 30.03251, -95.26371 30.032...\n",
      "3           4  POLYGON ((-96.10600 32.07531, -96.10632 32.075...\n",
      "4           5  POLYGON ((-94.99376 32.26004, -94.99376 32.260...\n",
      "..        ...                                                ...\n",
      "145       146  POLYGON ((-95.41960 29.61362, -95.41922 29.614...\n",
      "146       147  POLYGON ((-95.25031 29.59833, -95.25034 29.598...\n",
      "147       148  POLYGON ((-95.45699 29.79114, -95.45702 29.792...\n",
      "148       149  POLYGON ((-95.59784 29.66096, -95.59895 29.661...\n",
      "149       150  POLYGON ((-95.52624 30.02310, -95.52625 30.023...\n",
      "\n",
      "[150 rows x 2 columns]\n"
     ]
    }
   ],
   "source": [
    "df.loc[mask_no_missing_val, \"coords\"] = df.loc[mask_no_missing_val, \"googleMaps_lat_long\"].apply(Point)\n",
    "txHouse_points = gpd.GeoDataFrame(df.loc[mask_no_missing_val, :], geometry=\"coords\", crs=txHouse.crs)\n",
    "txHouse_pointsInPolys = gpd.tools.sjoin(txHouse_points, txHouse, predicate=\"within\", how=\"left\")\n",
    "\n",
    "## Plot\n",
    "base = txHouse.boundary.plot(linewidth=1, edgecolor=\"black\")\n",
    "txHouse_pointsInPolys.plot(ax=base, linewidth=1, color=\"red\", markersize=1)\n",
    "print(txHouse_pointsInPolys.coords)\n",
    "plt.show()\n",
    "\n",
    "## \n",
    "# print(txHouse_pointsInPolys)\n",
    "print(txHouse)"
   ]
  },
  {
   "cell_type": "code",
   "execution_count": 24,
   "metadata": {},
   "outputs": [],
   "source": [
    "# Generate random points\n",
    "N = 10000\n",
    "lat = np.random.uniform(23, 51, N)\n",
    "lon = np.random.uniform(-126, -64, N)\n",
    "\n",
    "# Create geodataframe from numpy arrays\n",
    "df2 = pd.DataFrame({\"lon\":lon, \"lat\":lat})\n",
    "df2['coords'] = list(zip(df2['lon'], df2['lat']))\n",
    "df2['coords'] = df2['coords'].apply(Point)\n",
    "\n",
    "points = gpd.GeoDataFrame(df2, geometry=\"coords\", crs=txHouse.crs)"
   ]
  },
  {
   "cell_type": "code",
   "execution_count": 25,
   "metadata": {},
   "outputs": [],
   "source": [
    "## Spatial join\n",
    "pointInPolys = gpd.tools.sjoin(points, txHouse, predicate=\"within\", how=\"left\")"
   ]
  },
  {
   "cell_type": "code",
   "execution_count": 27,
   "metadata": {},
   "outputs": [
    {
     "data": {
      "image/png": "[encoded data removed]",
      "text/plain": [
       "<Figure size 432x288 with 1 Axes>"
      ]
     },
     "metadata": {
      "needs_background": "light"
     },
     "output_type": "display_data"
    }
   ],
   "source": [
    "# Plot map\n",
    "base = txHouse.boundary.plot(linewidth=1, edgecolor='black')\n",
    "points.plot(ax=base, linewidth=1, color='red', markersize=1)\n",
    "plt.show()"
   ]
  },
  {
   "cell_type": "code",
   "execution_count": 34,
   "metadata": {},
   "outputs": [
    {
     "name": "stdout",
     "output_type": "stream",
     "text": [
      "Index(['lon', 'lat', 'coords', 'index_right', 'District'], dtype='object')\n",
      "Series([], Name: District, dtype: float64)\n",
      "10000\n",
      "10000\n"
     ]
    }
   ],
   "source": [
    "type(pointInPolys)\n",
    "print(pointInPolys.columns)\n",
    "\n",
    "mask = pointInPolys.District.isna()\n",
    "print(pointInPolys.District[mask==False])\n",
    "\n",
    "print(mask.sum())\n",
    "print(len(mask))"
   ]
  },
  {
   "cell_type": "code",
   "execution_count": null,
   "metadata": {},
   "outputs": [],
   "source": []
  }
 ],
 "metadata": {
  "kernelspec": {
   "display_name": "Python 3 (ipykernel)",
   "language": "python",
   "name": "python3"
  },
  "language_info": {
   "codemirror_mode": {
    "name": "ipython",
    "version": 3
   },
   "file_extension": ".py",
   "mimetype": "text/x-python",
   "name": "python",
   "nbconvert_exporter": "python",
   "pygments_lexer": "ipython3",
   "version": "3.10.5"
  },
  "vscode": {
   "interpreter": {
    "hash": "79f64941a201c5f2b32a828e94f06d0d06b228eb23da96838b8fab7dde247efd"
   }
  }
 },
 "nbformat": 4,
 "nbformat_minor": 4
}
